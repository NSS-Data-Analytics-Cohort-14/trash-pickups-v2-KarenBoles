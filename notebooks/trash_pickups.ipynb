{
 "cells": [
  {
   "cell_type": "code",
   "execution_count": 1,
   "id": "09410ad5-d121-4cd3-8e24-fc1f7d3b6c96",
   "metadata": {},
   "outputs": [
    {
     "name": "stdout",
     "output_type": "stream",
     "text": [
      "Requirement already satisfied: geopandas in c:\\users\\thisi\\anaconda3\\lib\\site-packages (1.0.1)\n",
      "Requirement already satisfied: numpy>=1.22 in c:\\users\\thisi\\anaconda3\\lib\\site-packages (from geopandas) (1.26.4)\n",
      "Requirement already satisfied: pyogrio>=0.7.2 in c:\\users\\thisi\\anaconda3\\lib\\site-packages (from geopandas) (0.10.0)\n",
      "Requirement already satisfied: packaging in c:\\users\\thisi\\anaconda3\\lib\\site-packages (from geopandas) (24.1)\n",
      "Requirement already satisfied: pandas>=1.4.0 in c:\\users\\thisi\\anaconda3\\lib\\site-packages (from geopandas) (2.2.2)\n",
      "Requirement already satisfied: pyproj>=3.3.0 in c:\\users\\thisi\\anaconda3\\lib\\site-packages (from geopandas) (3.7.1)\n",
      "Requirement already satisfied: shapely>=2.0.0 in c:\\users\\thisi\\anaconda3\\lib\\site-packages (from geopandas) (2.1.0)\n",
      "Requirement already satisfied: python-dateutil>=2.8.2 in c:\\users\\thisi\\anaconda3\\lib\\site-packages (from pandas>=1.4.0->geopandas) (2.9.0.post0)\n",
      "Requirement already satisfied: pytz>=2020.1 in c:\\users\\thisi\\anaconda3\\lib\\site-packages (from pandas>=1.4.0->geopandas) (2024.1)\n",
      "Requirement already satisfied: tzdata>=2022.7 in c:\\users\\thisi\\anaconda3\\lib\\site-packages (from pandas>=1.4.0->geopandas) (2023.3)\n",
      "Requirement already satisfied: certifi in c:\\users\\thisi\\anaconda3\\lib\\site-packages (from pyogrio>=0.7.2->geopandas) (2025.1.31)\n",
      "Requirement already satisfied: six>=1.5 in c:\\users\\thisi\\anaconda3\\lib\\site-packages (from python-dateutil>=2.8.2->pandas>=1.4.0->geopandas) (1.16.0)\n",
      "Requirement already satisfied: seaborn in c:\\users\\thisi\\anaconda3\\lib\\site-packages (0.13.2)\n",
      "Requirement already satisfied: numpy!=1.24.0,>=1.20 in c:\\users\\thisi\\anaconda3\\lib\\site-packages (from seaborn) (1.26.4)\n",
      "Requirement already satisfied: pandas>=1.2 in c:\\users\\thisi\\anaconda3\\lib\\site-packages (from seaborn) (2.2.2)\n",
      "Requirement already satisfied: matplotlib!=3.6.1,>=3.4 in c:\\users\\thisi\\anaconda3\\lib\\site-packages (from seaborn) (3.9.2)\n",
      "Requirement already satisfied: contourpy>=1.0.1 in c:\\users\\thisi\\anaconda3\\lib\\site-packages (from matplotlib!=3.6.1,>=3.4->seaborn) (1.2.0)\n",
      "Requirement already satisfied: cycler>=0.10 in c:\\users\\thisi\\anaconda3\\lib\\site-packages (from matplotlib!=3.6.1,>=3.4->seaborn) (0.11.0)\n",
      "Requirement already satisfied: fonttools>=4.22.0 in c:\\users\\thisi\\anaconda3\\lib\\site-packages (from matplotlib!=3.6.1,>=3.4->seaborn) (4.51.0)\n",
      "Requirement already satisfied: kiwisolver>=1.3.1 in c:\\users\\thisi\\anaconda3\\lib\\site-packages (from matplotlib!=3.6.1,>=3.4->seaborn) (1.4.4)\n",
      "Requirement already satisfied: packaging>=20.0 in c:\\users\\thisi\\anaconda3\\lib\\site-packages (from matplotlib!=3.6.1,>=3.4->seaborn) (24.1)\n",
      "Requirement already satisfied: pillow>=8 in c:\\users\\thisi\\anaconda3\\lib\\site-packages (from matplotlib!=3.6.1,>=3.4->seaborn) (10.4.0)\n",
      "Requirement already satisfied: pyparsing>=2.3.1 in c:\\users\\thisi\\anaconda3\\lib\\site-packages (from matplotlib!=3.6.1,>=3.4->seaborn) (3.1.2)\n",
      "Requirement already satisfied: python-dateutil>=2.7 in c:\\users\\thisi\\anaconda3\\lib\\site-packages (from matplotlib!=3.6.1,>=3.4->seaborn) (2.9.0.post0)\n",
      "Requirement already satisfied: pytz>=2020.1 in c:\\users\\thisi\\anaconda3\\lib\\site-packages (from pandas>=1.2->seaborn) (2024.1)\n",
      "Requirement already satisfied: tzdata>=2022.7 in c:\\users\\thisi\\anaconda3\\lib\\site-packages (from pandas>=1.2->seaborn) (2023.3)\n",
      "Requirement already satisfied: six>=1.5 in c:\\users\\thisi\\anaconda3\\lib\\site-packages (from python-dateutil>=2.7->matplotlib!=3.6.1,>=3.4->seaborn) (1.16.0)\n",
      "Requirement already satisfied: folium in c:\\users\\thisi\\anaconda3\\lib\\site-packages (0.19.5)\n",
      "Requirement already satisfied: branca>=0.6.0 in c:\\users\\thisi\\anaconda3\\lib\\site-packages (from folium) (0.8.1)\n",
      "Requirement already satisfied: jinja2>=2.9 in c:\\users\\thisi\\anaconda3\\lib\\site-packages (from folium) (3.1.4)\n",
      "Requirement already satisfied: numpy in c:\\users\\thisi\\anaconda3\\lib\\site-packages (from folium) (1.26.4)\n",
      "Requirement already satisfied: requests in c:\\users\\thisi\\anaconda3\\lib\\site-packages (from folium) (2.32.3)\n",
      "Requirement already satisfied: xyzservices in c:\\users\\thisi\\anaconda3\\lib\\site-packages (from folium) (2022.9.0)\n",
      "Requirement already satisfied: MarkupSafe>=2.0 in c:\\users\\thisi\\anaconda3\\lib\\site-packages (from jinja2>=2.9->folium) (2.1.3)\n",
      "Requirement already satisfied: charset-normalizer<4,>=2 in c:\\users\\thisi\\anaconda3\\lib\\site-packages (from requests->folium) (3.3.2)\n",
      "Requirement already satisfied: idna<4,>=2.5 in c:\\users\\thisi\\anaconda3\\lib\\site-packages (from requests->folium) (3.7)\n",
      "Requirement already satisfied: urllib3<3,>=1.21.1 in c:\\users\\thisi\\anaconda3\\lib\\site-packages (from requests->folium) (2.2.3)\n",
      "Requirement already satisfied: certifi>=2017.4.17 in c:\\users\\thisi\\anaconda3\\lib\\site-packages (from requests->folium) (2025.1.31)\n"
     ]
    }
   ],
   "source": [
    "import pandas as pd\n",
    "!pip install geopandas\n",
    "import geopandas as gpd\n",
    "import matplotlib.pyplot as plt\n",
    "import numpy as np\n",
    "!pip install seaborn\n",
    "import seaborn as sns\n",
    "!pip install folium\n",
    "import folium\n",
    "from folium.plugins import MarkerCluster\n",
    "from folium.plugins import FastMarkerCluster"
   ]
  },
  {
   "cell_type": "markdown",
   "id": "a207786c-0036-42c1-9498-61a97ccc64ac",
   "metadata": {},
   "source": [
    "(1) Read in the data and examine column information"
   ]
  },
  {
   "cell_type": "code",
   "execution_count": 3,
   "id": "ebb81049-4d58-4bb2-9a7f-c6ce7b4d725a",
   "metadata": {},
   "outputs": [],
   "source": [
    "trash_pickup_data=pd.read_csv('../data/trash_hauler_report_with_lat_lng.csv')"
   ]
  },
  {
   "cell_type": "code",
   "execution_count": 4,
   "id": "c376f4bb-e35c-4179-a94f-e925dab18474",
   "metadata": {},
   "outputs": [
    {
     "data": {
      "text/html": [
       "<div>\n",
       "<style scoped>\n",
       "    .dataframe tbody tr th:only-of-type {\n",
       "        vertical-align: middle;\n",
       "    }\n",
       "\n",
       "    .dataframe tbody tr th {\n",
       "        vertical-align: top;\n",
       "    }\n",
       "\n",
       "    .dataframe thead th {\n",
       "        text-align: right;\n",
       "    }\n",
       "</style>\n",
       "<table border=\"1\" class=\"dataframe\">\n",
       "  <thead>\n",
       "    <tr style=\"text-align: right;\">\n",
       "      <th></th>\n",
       "      <th>Request Number</th>\n",
       "      <th>Date Opened</th>\n",
       "      <th>Request</th>\n",
       "      <th>Description</th>\n",
       "      <th>Incident Address</th>\n",
       "      <th>Zip Code</th>\n",
       "      <th>Trash Hauler</th>\n",
       "      <th>Trash Route</th>\n",
       "      <th>Council District</th>\n",
       "      <th>State Plan X</th>\n",
       "      <th>State Plan Y</th>\n",
       "      <th>LONGITUDE</th>\n",
       "      <th>LATITUDE</th>\n",
       "    </tr>\n",
       "  </thead>\n",
       "  <tbody>\n",
       "    <tr>\n",
       "      <th>0</th>\n",
       "      <td>25270</td>\n",
       "      <td>11/1/2017</td>\n",
       "      <td>Trash - Backdoor</td>\n",
       "      <td>house with the wheel chair ramp, they share dr...</td>\n",
       "      <td>3817 Crouch Dr</td>\n",
       "      <td>37207.0</td>\n",
       "      <td>RED RIVER</td>\n",
       "      <td>3205</td>\n",
       "      <td>2.0</td>\n",
       "      <td>1727970.412</td>\n",
       "      <td>686779.4781</td>\n",
       "      <td>-86.815392</td>\n",
       "      <td>36.217292</td>\n",
       "    </tr>\n",
       "    <tr>\n",
       "      <th>1</th>\n",
       "      <td>25274</td>\n",
       "      <td>11/1/2017</td>\n",
       "      <td>Trash - Curbside/Alley Missed Pickup</td>\n",
       "      <td>Curb/Trash miss Tuesday.</td>\n",
       "      <td>4028 Clarksville Pike</td>\n",
       "      <td>37218.0</td>\n",
       "      <td>RED RIVER</td>\n",
       "      <td>4202</td>\n",
       "      <td>1.0</td>\n",
       "      <td>1721259.366</td>\n",
       "      <td>685444.7996</td>\n",
       "      <td>-86.838103</td>\n",
       "      <td>36.213470</td>\n",
       "    </tr>\n",
       "    <tr>\n",
       "      <th>2</th>\n",
       "      <td>25276</td>\n",
       "      <td>11/1/2017</td>\n",
       "      <td>Trash - Curbside/Alley Missed Pickup</td>\n",
       "      <td>Curb/trash miss Tuesday.</td>\n",
       "      <td>6528 Thunderbird Dr</td>\n",
       "      <td>37209.0</td>\n",
       "      <td>RED RIVER</td>\n",
       "      <td>4205</td>\n",
       "      <td>20.0</td>\n",
       "      <td>1707026.753</td>\n",
       "      <td>659887.4716</td>\n",
       "      <td>-86.885562</td>\n",
       "      <td>36.142923</td>\n",
       "    </tr>\n",
       "    <tr>\n",
       "      <th>3</th>\n",
       "      <td>25307</td>\n",
       "      <td>11/1/2017</td>\n",
       "      <td>Trash - Curbside/Alley Missed Pickup</td>\n",
       "      <td>missed</td>\n",
       "      <td>2603 old matthews rd</td>\n",
       "      <td>37207.0</td>\n",
       "      <td>WASTE IND</td>\n",
       "      <td>2206</td>\n",
       "      <td>2.0</td>\n",
       "      <td>1735691.771</td>\n",
       "      <td>685027.2459</td>\n",
       "      <td>-86.789170</td>\n",
       "      <td>36.212652</td>\n",
       "    </tr>\n",
       "    <tr>\n",
       "      <th>4</th>\n",
       "      <td>25312</td>\n",
       "      <td>11/1/2017</td>\n",
       "      <td>Trash - Curbside/Alley Missed Pickup</td>\n",
       "      <td>Missed the even side of the road.</td>\n",
       "      <td>604 croley dr</td>\n",
       "      <td>37209.0</td>\n",
       "      <td>RED RIVER</td>\n",
       "      <td>4203</td>\n",
       "      <td>20.0</td>\n",
       "      <td>1710185.772</td>\n",
       "      <td>664205.1011</td>\n",
       "      <td>-86.874995</td>\n",
       "      <td>36.154861</td>\n",
       "    </tr>\n",
       "  </tbody>\n",
       "</table>\n",
       "</div>"
      ],
      "text/plain": [
       "   Request Number Date Opened                               Request  \\\n",
       "0           25270   11/1/2017                      Trash - Backdoor   \n",
       "1           25274   11/1/2017  Trash - Curbside/Alley Missed Pickup   \n",
       "2           25276   11/1/2017  Trash - Curbside/Alley Missed Pickup   \n",
       "3           25307   11/1/2017  Trash - Curbside/Alley Missed Pickup   \n",
       "4           25312   11/1/2017  Trash - Curbside/Alley Missed Pickup   \n",
       "\n",
       "                                         Description       Incident Address  \\\n",
       "0  house with the wheel chair ramp, they share dr...         3817 Crouch Dr   \n",
       "1                           Curb/Trash miss Tuesday.  4028 Clarksville Pike   \n",
       "2                           Curb/trash miss Tuesday.    6528 Thunderbird Dr   \n",
       "3                                             missed   2603 old matthews rd   \n",
       "4                  Missed the even side of the road.          604 croley dr   \n",
       "\n",
       "   Zip Code Trash Hauler Trash Route  Council District  State Plan X  \\\n",
       "0   37207.0    RED RIVER        3205               2.0   1727970.412   \n",
       "1   37218.0    RED RIVER        4202               1.0   1721259.366   \n",
       "2   37209.0    RED RIVER        4205              20.0   1707026.753   \n",
       "3   37207.0    WASTE IND        2206               2.0   1735691.771   \n",
       "4   37209.0    RED RIVER        4203              20.0   1710185.772   \n",
       "\n",
       "   State Plan Y  LONGITUDE   LATITUDE  \n",
       "0   686779.4781 -86.815392  36.217292  \n",
       "1   685444.7996 -86.838103  36.213470  \n",
       "2   659887.4716 -86.885562  36.142923  \n",
       "3   685027.2459 -86.789170  36.212652  \n",
       "4   664205.1011 -86.874995  36.154861  "
      ]
     },
     "execution_count": 4,
     "metadata": {},
     "output_type": "execute_result"
    }
   ],
   "source": [
    "trash_pickup_data.head()"
   ]
  },
  {
   "cell_type": "code",
   "execution_count": 5,
   "id": "4c7e0b54-d865-4e69-a32d-4b773eae707f",
   "metadata": {
    "jupyter": {
     "source_hidden": true
    }
   },
   "outputs": [
    {
     "name": "stdout",
     "output_type": "stream",
     "text": [
      "<class 'pandas.core.frame.DataFrame'>\n",
      "RangeIndex: 20226 entries, 0 to 20225\n",
      "Data columns (total 13 columns):\n",
      " #   Column            Non-Null Count  Dtype  \n",
      "---  ------            --------------  -----  \n",
      " 0   Request Number    20226 non-null  int64  \n",
      " 1   Date Opened       20226 non-null  object \n",
      " 2   Request           20226 non-null  object \n",
      " 3   Description       20195 non-null  object \n",
      " 4   Incident Address  20217 non-null  object \n",
      " 5   Zip Code          20151 non-null  float64\n",
      " 6   Trash Hauler      19325 non-null  object \n",
      " 7   Trash Route       19279 non-null  object \n",
      " 8   Council District  20177 non-null  float64\n",
      " 9   State Plan X      20198 non-null  float64\n",
      " 10  State Plan Y      20198 non-null  float64\n",
      " 11  LONGITUDE         20198 non-null  float64\n",
      " 12  LATITUDE          20198 non-null  float64\n",
      "dtypes: float64(6), int64(1), object(6)\n",
      "memory usage: 2.0+ MB\n"
     ]
    }
   ],
   "source": [
    "trash_pickup_data.info()"
   ]
  },
  {
   "cell_type": "markdown",
   "id": "a27fc919-8424-4943-aad8-5a7cd0f5c416",
   "metadata": {},
   "source": [
    "(2) Create a dataframe with all missed pickup incidents and change addresses to uniform lowercase"
   ]
  },
  {
   "cell_type": "code",
   "execution_count": 7,
   "id": "8a6c4638-601a-40b3-bfa6-91154bd96097",
   "metadata": {},
   "outputs": [],
   "source": [
    "trash_missed_pickups=trash_pickup_data[trash_pickup_data['Request'].str.contains('Miss')]"
   ]
  },
  {
   "cell_type": "code",
   "execution_count": 8,
   "id": "79cd40b8-40fa-4d61-bad0-a331de18485b",
   "metadata": {},
   "outputs": [],
   "source": [
    "trash_missed_pickups=trash_missed_pickups.copy()"
   ]
  },
  {
   "cell_type": "code",
   "execution_count": 9,
   "id": "710ecbdf-b337-4917-a671-fbcc0dd7f723",
   "metadata": {},
   "outputs": [
    {
     "data": {
      "text/html": [
       "<div>\n",
       "<style scoped>\n",
       "    .dataframe tbody tr th:only-of-type {\n",
       "        vertical-align: middle;\n",
       "    }\n",
       "\n",
       "    .dataframe tbody tr th {\n",
       "        vertical-align: top;\n",
       "    }\n",
       "\n",
       "    .dataframe thead th {\n",
       "        text-align: right;\n",
       "    }\n",
       "</style>\n",
       "<table border=\"1\" class=\"dataframe\">\n",
       "  <thead>\n",
       "    <tr style=\"text-align: right;\">\n",
       "      <th></th>\n",
       "      <th>Request Number</th>\n",
       "      <th>Date Opened</th>\n",
       "      <th>Request</th>\n",
       "      <th>Description</th>\n",
       "      <th>Incident Address</th>\n",
       "      <th>Zip Code</th>\n",
       "      <th>Trash Hauler</th>\n",
       "      <th>Trash Route</th>\n",
       "      <th>Council District</th>\n",
       "      <th>State Plan X</th>\n",
       "      <th>State Plan Y</th>\n",
       "      <th>LONGITUDE</th>\n",
       "      <th>LATITUDE</th>\n",
       "    </tr>\n",
       "  </thead>\n",
       "  <tbody>\n",
       "    <tr>\n",
       "      <th>1</th>\n",
       "      <td>25274</td>\n",
       "      <td>11/1/2017</td>\n",
       "      <td>Trash - Curbside/Alley Missed Pickup</td>\n",
       "      <td>Curb/Trash miss Tuesday.</td>\n",
       "      <td>4028 Clarksville Pike</td>\n",
       "      <td>37218.0</td>\n",
       "      <td>RED RIVER</td>\n",
       "      <td>4202</td>\n",
       "      <td>1.0</td>\n",
       "      <td>1721259.366</td>\n",
       "      <td>685444.7996</td>\n",
       "      <td>-86.838103</td>\n",
       "      <td>36.213470</td>\n",
       "    </tr>\n",
       "    <tr>\n",
       "      <th>2</th>\n",
       "      <td>25276</td>\n",
       "      <td>11/1/2017</td>\n",
       "      <td>Trash - Curbside/Alley Missed Pickup</td>\n",
       "      <td>Curb/trash miss Tuesday.</td>\n",
       "      <td>6528 Thunderbird Dr</td>\n",
       "      <td>37209.0</td>\n",
       "      <td>RED RIVER</td>\n",
       "      <td>4205</td>\n",
       "      <td>20.0</td>\n",
       "      <td>1707026.753</td>\n",
       "      <td>659887.4716</td>\n",
       "      <td>-86.885562</td>\n",
       "      <td>36.142923</td>\n",
       "    </tr>\n",
       "    <tr>\n",
       "      <th>3</th>\n",
       "      <td>25307</td>\n",
       "      <td>11/1/2017</td>\n",
       "      <td>Trash - Curbside/Alley Missed Pickup</td>\n",
       "      <td>missed</td>\n",
       "      <td>2603 old matthews rd</td>\n",
       "      <td>37207.0</td>\n",
       "      <td>WASTE IND</td>\n",
       "      <td>2206</td>\n",
       "      <td>2.0</td>\n",
       "      <td>1735691.771</td>\n",
       "      <td>685027.2459</td>\n",
       "      <td>-86.789170</td>\n",
       "      <td>36.212652</td>\n",
       "    </tr>\n",
       "    <tr>\n",
       "      <th>4</th>\n",
       "      <td>25312</td>\n",
       "      <td>11/1/2017</td>\n",
       "      <td>Trash - Curbside/Alley Missed Pickup</td>\n",
       "      <td>Missed the even side of the road.</td>\n",
       "      <td>604 croley dr</td>\n",
       "      <td>37209.0</td>\n",
       "      <td>RED RIVER</td>\n",
       "      <td>4203</td>\n",
       "      <td>20.0</td>\n",
       "      <td>1710185.772</td>\n",
       "      <td>664205.1011</td>\n",
       "      <td>-86.874995</td>\n",
       "      <td>36.154861</td>\n",
       "    </tr>\n",
       "    <tr>\n",
       "      <th>8</th>\n",
       "      <td>25330</td>\n",
       "      <td>11/1/2017</td>\n",
       "      <td>Trash - Curbside/Alley Missed Pickup</td>\n",
       "      <td>Missed.</td>\n",
       "      <td>4484 Lavergne Couchville Pike</td>\n",
       "      <td>37013.0</td>\n",
       "      <td>RED RIVER</td>\n",
       "      <td>4210</td>\n",
       "      <td>33.0</td>\n",
       "      <td>1794533.514</td>\n",
       "      <td>618749.3427</td>\n",
       "      <td>-86.588364</td>\n",
       "      <td>36.031728</td>\n",
       "    </tr>\n",
       "  </tbody>\n",
       "</table>\n",
       "</div>"
      ],
      "text/plain": [
       "   Request Number Date Opened                               Request  \\\n",
       "1           25274   11/1/2017  Trash - Curbside/Alley Missed Pickup   \n",
       "2           25276   11/1/2017  Trash - Curbside/Alley Missed Pickup   \n",
       "3           25307   11/1/2017  Trash - Curbside/Alley Missed Pickup   \n",
       "4           25312   11/1/2017  Trash - Curbside/Alley Missed Pickup   \n",
       "8           25330   11/1/2017  Trash - Curbside/Alley Missed Pickup   \n",
       "\n",
       "                         Description               Incident Address  Zip Code  \\\n",
       "1           Curb/Trash miss Tuesday.          4028 Clarksville Pike   37218.0   \n",
       "2           Curb/trash miss Tuesday.            6528 Thunderbird Dr   37209.0   \n",
       "3                             missed           2603 old matthews rd   37207.0   \n",
       "4  Missed the even side of the road.                  604 croley dr   37209.0   \n",
       "8                            Missed.  4484 Lavergne Couchville Pike   37013.0   \n",
       "\n",
       "  Trash Hauler Trash Route  Council District  State Plan X  State Plan Y  \\\n",
       "1    RED RIVER        4202               1.0   1721259.366   685444.7996   \n",
       "2    RED RIVER        4205              20.0   1707026.753   659887.4716   \n",
       "3    WASTE IND        2206               2.0   1735691.771   685027.2459   \n",
       "4    RED RIVER        4203              20.0   1710185.772   664205.1011   \n",
       "8    RED RIVER        4210              33.0   1794533.514   618749.3427   \n",
       "\n",
       "   LONGITUDE   LATITUDE  \n",
       "1 -86.838103  36.213470  \n",
       "2 -86.885562  36.142923  \n",
       "3 -86.789170  36.212652  \n",
       "4 -86.874995  36.154861  \n",
       "8 -86.588364  36.031728  "
      ]
     },
     "execution_count": 9,
     "metadata": {},
     "output_type": "execute_result"
    }
   ],
   "source": [
    "trash_missed_pickups.head()"
   ]
  },
  {
   "cell_type": "code",
   "execution_count": 10,
   "id": "25f647f0-d504-458f-87fd-00a13dec4c73",
   "metadata": {},
   "outputs": [
    {
     "name": "stdout",
     "output_type": "stream",
     "text": [
      "<class 'pandas.core.frame.DataFrame'>\n",
      "Index: 15028 entries, 1 to 20225\n",
      "Data columns (total 13 columns):\n",
      " #   Column            Non-Null Count  Dtype  \n",
      "---  ------            --------------  -----  \n",
      " 0   Request Number    15028 non-null  int64  \n",
      " 1   Date Opened       15028 non-null  object \n",
      " 2   Request           15028 non-null  object \n",
      " 3   Description       14999 non-null  object \n",
      " 4   Incident Address  15020 non-null  object \n",
      " 5   Zip Code          14972 non-null  float64\n",
      " 6   Trash Hauler      14422 non-null  object \n",
      " 7   Trash Route       14405 non-null  object \n",
      " 8   Council District  14991 non-null  float64\n",
      " 9   State Plan X      15007 non-null  float64\n",
      " 10  State Plan Y      15007 non-null  float64\n",
      " 11  LONGITUDE         15007 non-null  float64\n",
      " 12  LATITUDE          15007 non-null  float64\n",
      "dtypes: float64(6), int64(1), object(6)\n",
      "memory usage: 1.6+ MB\n"
     ]
    }
   ],
   "source": [
    "trash_missed_pickups.info()"
   ]
  },
  {
   "cell_type": "code",
   "execution_count": 11,
   "id": "326a23ee-008a-4785-a02a-30bbd662901b",
   "metadata": {
    "jupyter": {
     "source_hidden": true
    }
   },
   "outputs": [],
   "source": [
    "trash_missed_pickups['Address_lower']=trash_missed_pickups['Incident Address'].str.lower()"
   ]
  },
  {
   "cell_type": "code",
   "execution_count": 12,
   "id": "45aa148c-8cbc-451e-81f7-bf6a2a7d16a9",
   "metadata": {},
   "outputs": [
    {
     "data": {
      "text/html": [
       "<div>\n",
       "<style scoped>\n",
       "    .dataframe tbody tr th:only-of-type {\n",
       "        vertical-align: middle;\n",
       "    }\n",
       "\n",
       "    .dataframe tbody tr th {\n",
       "        vertical-align: top;\n",
       "    }\n",
       "\n",
       "    .dataframe thead th {\n",
       "        text-align: right;\n",
       "    }\n",
       "</style>\n",
       "<table border=\"1\" class=\"dataframe\">\n",
       "  <thead>\n",
       "    <tr style=\"text-align: right;\">\n",
       "      <th></th>\n",
       "      <th>Request Number</th>\n",
       "      <th>Date Opened</th>\n",
       "      <th>Request</th>\n",
       "      <th>Description</th>\n",
       "      <th>Incident Address</th>\n",
       "      <th>Zip Code</th>\n",
       "      <th>Trash Hauler</th>\n",
       "      <th>Trash Route</th>\n",
       "      <th>Council District</th>\n",
       "      <th>State Plan X</th>\n",
       "      <th>State Plan Y</th>\n",
       "      <th>LONGITUDE</th>\n",
       "      <th>LATITUDE</th>\n",
       "      <th>Address_lower</th>\n",
       "    </tr>\n",
       "  </thead>\n",
       "  <tbody>\n",
       "    <tr>\n",
       "      <th>1</th>\n",
       "      <td>25274</td>\n",
       "      <td>11/1/2017</td>\n",
       "      <td>Trash - Curbside/Alley Missed Pickup</td>\n",
       "      <td>Curb/Trash miss Tuesday.</td>\n",
       "      <td>4028 Clarksville Pike</td>\n",
       "      <td>37218.0</td>\n",
       "      <td>RED RIVER</td>\n",
       "      <td>4202</td>\n",
       "      <td>1.0</td>\n",
       "      <td>1721259.366</td>\n",
       "      <td>685444.7996</td>\n",
       "      <td>-86.838103</td>\n",
       "      <td>36.213470</td>\n",
       "      <td>4028 clarksville pike</td>\n",
       "    </tr>\n",
       "    <tr>\n",
       "      <th>2</th>\n",
       "      <td>25276</td>\n",
       "      <td>11/1/2017</td>\n",
       "      <td>Trash - Curbside/Alley Missed Pickup</td>\n",
       "      <td>Curb/trash miss Tuesday.</td>\n",
       "      <td>6528 Thunderbird Dr</td>\n",
       "      <td>37209.0</td>\n",
       "      <td>RED RIVER</td>\n",
       "      <td>4205</td>\n",
       "      <td>20.0</td>\n",
       "      <td>1707026.753</td>\n",
       "      <td>659887.4716</td>\n",
       "      <td>-86.885562</td>\n",
       "      <td>36.142923</td>\n",
       "      <td>6528 thunderbird dr</td>\n",
       "    </tr>\n",
       "    <tr>\n",
       "      <th>3</th>\n",
       "      <td>25307</td>\n",
       "      <td>11/1/2017</td>\n",
       "      <td>Trash - Curbside/Alley Missed Pickup</td>\n",
       "      <td>missed</td>\n",
       "      <td>2603 old matthews rd</td>\n",
       "      <td>37207.0</td>\n",
       "      <td>WASTE IND</td>\n",
       "      <td>2206</td>\n",
       "      <td>2.0</td>\n",
       "      <td>1735691.771</td>\n",
       "      <td>685027.2459</td>\n",
       "      <td>-86.789170</td>\n",
       "      <td>36.212652</td>\n",
       "      <td>2603 old matthews rd</td>\n",
       "    </tr>\n",
       "    <tr>\n",
       "      <th>4</th>\n",
       "      <td>25312</td>\n",
       "      <td>11/1/2017</td>\n",
       "      <td>Trash - Curbside/Alley Missed Pickup</td>\n",
       "      <td>Missed the even side of the road.</td>\n",
       "      <td>604 croley dr</td>\n",
       "      <td>37209.0</td>\n",
       "      <td>RED RIVER</td>\n",
       "      <td>4203</td>\n",
       "      <td>20.0</td>\n",
       "      <td>1710185.772</td>\n",
       "      <td>664205.1011</td>\n",
       "      <td>-86.874995</td>\n",
       "      <td>36.154861</td>\n",
       "      <td>604 croley dr</td>\n",
       "    </tr>\n",
       "    <tr>\n",
       "      <th>8</th>\n",
       "      <td>25330</td>\n",
       "      <td>11/1/2017</td>\n",
       "      <td>Trash - Curbside/Alley Missed Pickup</td>\n",
       "      <td>Missed.</td>\n",
       "      <td>4484 Lavergne Couchville Pike</td>\n",
       "      <td>37013.0</td>\n",
       "      <td>RED RIVER</td>\n",
       "      <td>4210</td>\n",
       "      <td>33.0</td>\n",
       "      <td>1794533.514</td>\n",
       "      <td>618749.3427</td>\n",
       "      <td>-86.588364</td>\n",
       "      <td>36.031728</td>\n",
       "      <td>4484 lavergne couchville pike</td>\n",
       "    </tr>\n",
       "  </tbody>\n",
       "</table>\n",
       "</div>"
      ],
      "text/plain": [
       "   Request Number Date Opened                               Request  \\\n",
       "1           25274   11/1/2017  Trash - Curbside/Alley Missed Pickup   \n",
       "2           25276   11/1/2017  Trash - Curbside/Alley Missed Pickup   \n",
       "3           25307   11/1/2017  Trash - Curbside/Alley Missed Pickup   \n",
       "4           25312   11/1/2017  Trash - Curbside/Alley Missed Pickup   \n",
       "8           25330   11/1/2017  Trash - Curbside/Alley Missed Pickup   \n",
       "\n",
       "                         Description               Incident Address  Zip Code  \\\n",
       "1           Curb/Trash miss Tuesday.          4028 Clarksville Pike   37218.0   \n",
       "2           Curb/trash miss Tuesday.            6528 Thunderbird Dr   37209.0   \n",
       "3                             missed           2603 old matthews rd   37207.0   \n",
       "4  Missed the even side of the road.                  604 croley dr   37209.0   \n",
       "8                            Missed.  4484 Lavergne Couchville Pike   37013.0   \n",
       "\n",
       "  Trash Hauler Trash Route  Council District  State Plan X  State Plan Y  \\\n",
       "1    RED RIVER        4202               1.0   1721259.366   685444.7996   \n",
       "2    RED RIVER        4205              20.0   1707026.753   659887.4716   \n",
       "3    WASTE IND        2206               2.0   1735691.771   685027.2459   \n",
       "4    RED RIVER        4203              20.0   1710185.772   664205.1011   \n",
       "8    RED RIVER        4210              33.0   1794533.514   618749.3427   \n",
       "\n",
       "   LONGITUDE   LATITUDE                  Address_lower  \n",
       "1 -86.838103  36.213470          4028 clarksville pike  \n",
       "2 -86.885562  36.142923            6528 thunderbird dr  \n",
       "3 -86.789170  36.212652           2603 old matthews rd  \n",
       "4 -86.874995  36.154861                  604 croley dr  \n",
       "8 -86.588364  36.031728  4484 lavergne couchville pike  "
      ]
     },
     "execution_count": 12,
     "metadata": {},
     "output_type": "execute_result"
    }
   ],
   "source": [
    "trash_missed_pickups.head()"
   ]
  },
  {
   "cell_type": "markdown",
   "id": "71538283-00eb-45ce-8538-1745e418f69d",
   "metadata": {},
   "source": [
    "(3) Identify addresses where multiple missed pickups occurred in a new dataframe"
   ]
  },
  {
   "cell_type": "code",
   "execution_count": null,
   "id": "84836402-ba54-4565-93fe-7178d1453693",
   "metadata": {},
   "outputs": [],
   "source": [
    "## tester=trash_missed_pickups.groupby(['Address_lower','Trash Hauler'])\n",
    "#tester2=tester.size().reset_index(name='num_trash_haulers')\n",
    "#tester2.head()\n",
    "#print(tester2['num_trash_haulers']>1)"
   ]
  },
  {
   "cell_type": "code",
   "execution_count": 14,
   "id": "9a52420b-b04e-4b96-bc55-e0d1c72c36e9",
   "metadata": {},
   "outputs": [
    {
     "data": {
      "text/plain": [
       "(                                       Address_lower  total_count\n",
       " 0  12546 old hickory blvd, nashville, tn 37013, u...           19\n",
       " 1                           5135 hickory hollow pkwy           17\n",
       " 2  802 crescent rd, nashville, tn 37205, united s...           17\n",
       " 3  1816 jo johnston ave, nashville, tn 37203, uni...           16\n",
       " 4   607 estes rd, nashville, tn 37215, united states           15,)"
      ]
     },
     "execution_count": 14,
     "metadata": {},
     "output_type": "execute_result"
    }
   ],
   "source": [
    "total_missed_pickups=trash_missed_pickups['Address_lower'].value_counts().reset_index(name='total_count')\n",
    "total_missed_pickups.head(),"
   ]
  },
  {
   "cell_type": "code",
   "execution_count": 15,
   "id": "4cab31e0-584f-46d8-beb6-27e8963dbcb9",
   "metadata": {},
   "outputs": [
    {
     "name": "stdout",
     "output_type": "stream",
     "text": [
      "<class 'pandas.core.frame.DataFrame'>\n",
      "RangeIndex: 11207 entries, 0 to 11206\n",
      "Data columns (total 2 columns):\n",
      " #   Column         Non-Null Count  Dtype \n",
      "---  ------         --------------  ----- \n",
      " 0   Address_lower  11207 non-null  object\n",
      " 1   total_count    11207 non-null  int64 \n",
      "dtypes: int64(1), object(1)\n",
      "memory usage: 175.2+ KB\n"
     ]
    }
   ],
   "source": [
    "total_missed_pickups.info()"
   ]
  },
  {
   "cell_type": "code",
   "execution_count": 16,
   "id": "2cfd9373-20c5-4811-875c-54874a2dc78f",
   "metadata": {},
   "outputs": [],
   "source": [
    "mult_missed_pickups=total_missed_pickups[total_missed_pickups['total_count']>=2]"
   ]
  },
  {
   "cell_type": "code",
   "execution_count": 17,
   "id": "41eb3abe-6e95-44b9-be71-3e1a383c4052",
   "metadata": {
    "scrolled": true
   },
   "outputs": [
    {
     "data": {
      "text/html": [
       "<div>\n",
       "<style scoped>\n",
       "    .dataframe tbody tr th:only-of-type {\n",
       "        vertical-align: middle;\n",
       "    }\n",
       "\n",
       "    .dataframe tbody tr th {\n",
       "        vertical-align: top;\n",
       "    }\n",
       "\n",
       "    .dataframe thead th {\n",
       "        text-align: right;\n",
       "    }\n",
       "</style>\n",
       "<table border=\"1\" class=\"dataframe\">\n",
       "  <thead>\n",
       "    <tr style=\"text-align: right;\">\n",
       "      <th></th>\n",
       "      <th>Address_lower</th>\n",
       "      <th>total_count</th>\n",
       "    </tr>\n",
       "  </thead>\n",
       "  <tbody>\n",
       "    <tr>\n",
       "      <th>0</th>\n",
       "      <td>12546 old hickory blvd, nashville, tn 37013, u...</td>\n",
       "      <td>19</td>\n",
       "    </tr>\n",
       "    <tr>\n",
       "      <th>1</th>\n",
       "      <td>5135 hickory hollow pkwy</td>\n",
       "      <td>17</td>\n",
       "    </tr>\n",
       "    <tr>\n",
       "      <th>2</th>\n",
       "      <td>802 crescent rd, nashville, tn 37205, united s...</td>\n",
       "      <td>17</td>\n",
       "    </tr>\n",
       "    <tr>\n",
       "      <th>3</th>\n",
       "      <td>1816 jo johnston ave, nashville, tn 37203, uni...</td>\n",
       "      <td>16</td>\n",
       "    </tr>\n",
       "    <tr>\n",
       "      <th>4</th>\n",
       "      <td>607 estes rd, nashville, tn 37215, united states</td>\n",
       "      <td>15</td>\n",
       "    </tr>\n",
       "  </tbody>\n",
       "</table>\n",
       "</div>"
      ],
      "text/plain": [
       "                                       Address_lower  total_count\n",
       "0  12546 old hickory blvd, nashville, tn 37013, u...           19\n",
       "1                           5135 hickory hollow pkwy           17\n",
       "2  802 crescent rd, nashville, tn 37205, united s...           17\n",
       "3  1816 jo johnston ave, nashville, tn 37203, uni...           16\n",
       "4   607 estes rd, nashville, tn 37215, united states           15"
      ]
     },
     "execution_count": 17,
     "metadata": {},
     "output_type": "execute_result"
    }
   ],
   "source": [
    "mult_missed_pickups.head()"
   ]
  },
  {
   "cell_type": "markdown",
   "id": "718b5870-7723-4997-8d78-c874d4fc64e9",
   "metadata": {},
   "source": [
    "(4)Calculate the total fine = total_fined_missed_pickups *200 and print the amount."
   ]
  },
  {
   "cell_type": "code",
   "execution_count": 19,
   "id": "7960757e-e7df-425f-921c-15abf2e4dcd7",
   "metadata": {},
   "outputs": [
    {
     "name": "stdout",
     "output_type": "stream",
     "text": [
      "6124\n",
      "The total fine for missed pickups is $762600.\n"
     ]
    }
   ],
   "source": [
    "print(mult_missed_pickups['total_count'].sum())\n",
    "total_fined_missed_pickups=mult_missed_pickups['total_count'].sum()-mult_missed_pickups['total_count'].count()\n",
    "print('The total fine for missed pickups is $'+str(total_fined_missed_pickups*200)+'.')"
   ]
  },
  {
   "cell_type": "markdown",
   "id": "040fc1cb-a75e-496a-b947-a92981b43abb",
   "metadata": {},
   "source": [
    "The total fine for the missed pickups is $762,600"
   ]
  },
  {
   "cell_type": "markdown",
   "id": "c4ab5d34-6a74-455e-99ac-3f2ebf9d68f9",
   "metadata": {},
   "source": [
    "(5) What are the other types of complaints?"
   ]
  },
  {
   "cell_type": "code",
   "execution_count": 22,
   "id": "2cf512b8-be17-4408-8711-fbad31646240",
   "metadata": {},
   "outputs": [],
   "source": [
    "trash_data_by_request=trash_pickup_data.Request.unique()"
   ]
  },
  {
   "cell_type": "code",
   "execution_count": 23,
   "id": "e7b84ae8-ef9a-41c8-9fa4-1018b989c8cf",
   "metadata": {},
   "outputs": [
    {
     "name": "stdout",
     "output_type": "stream",
     "text": [
      "['Trash - Backdoor' 'Trash - Curbside/Alley Missed Pickup'\n",
      " 'Trash Collection Complaint' 'Damage to Property']\n"
     ]
    }
   ],
   "source": [
    "print(trash_data_by_request)"
   ]
  },
  {
   "cell_type": "code",
   "execution_count": 24,
   "id": "0be40203-9b6a-4f74-be7e-e6e124d144c9",
   "metadata": {},
   "outputs": [],
   "source": [
    "trash_haulers=trash_pickup_data['Trash Hauler'].unique()"
   ]
  },
  {
   "cell_type": "code",
   "execution_count": 25,
   "id": "8cbe17b5-6cf7-43b0-acf1-a354ce26d64e",
   "metadata": {},
   "outputs": [
    {
     "name": "stdout",
     "output_type": "stream",
     "text": [
      "['RED RIVER' 'WASTE IND' 'METRO' nan 'Metro']\n"
     ]
    }
   ],
   "source": [
    "print(trash_haulers)\n"
   ]
  },
  {
   "cell_type": "code",
   "execution_count": 26,
   "id": "c9ff6b90-c2ba-4de9-a770-d859fef71fec",
   "metadata": {},
   "outputs": [],
   "source": [
    "trash_data_by_route=trash_missed_pickups.groupby('Trash Route').count()"
   ]
  },
  {
   "cell_type": "code",
   "execution_count": 27,
   "id": "cfa2ba60-882d-4447-8784-03cd0a77b388",
   "metadata": {
    "scrolled": true
   },
   "outputs": [
    {
     "name": "stdout",
     "output_type": "stream",
     "text": [
      "Trash Route\n",
      "1201     160\n",
      "1202      87\n",
      "1202S      4\n",
      "1203      68\n",
      "1204      61\n",
      "        ... \n",
      "9504      38\n",
      "9505      46\n",
      "9506      57\n",
      "9507      61\n",
      "9508     109\n",
      "Name: Request Number, Length: 172, dtype: int64\n"
     ]
    }
   ],
   "source": [
    "print(trash_data_by_route['Request Number'])"
   ]
  },
  {
   "cell_type": "code",
   "execution_count": 28,
   "id": "31b85dbf-3837-401c-b0bd-6494e3acd63e",
   "metadata": {},
   "outputs": [
    {
     "name": "stdout",
     "output_type": "stream",
     "text": [
      "Trash Hauler\n",
      "METRO         2646\n",
      "Metro           42\n",
      "RED RIVER    10715\n",
      "WASTE IND     1019\n",
      "Name: Request Number, dtype: int64\n"
     ]
    }
   ],
   "source": [
    "trash_data_by_hauler=trash_missed_pickups.groupby('Trash Hauler').count()\n",
    "print(trash_data_by_hauler['Request Number'])"
   ]
  },
  {
   "cell_type": "code",
   "execution_count": 29,
   "id": "18a6d7dc-1a15-4cbd-93a4-56500b1ffe08",
   "metadata": {},
   "outputs": [
    {
     "name": "stdout",
     "output_type": "stream",
     "text": [
      "Metro was responsible for 18.64% of the total missed pickup complaints\n"
     ]
    }
   ],
   "source": [
    "metro_pct_of_complaints=round(2688/(2688+10715+1019.)*100,2)\n",
    "print('Metro was responsible for '+str(metro_pct_of_complaints)+'% of the total missed pickup complaints')"
   ]
  },
  {
   "cell_type": "code",
   "execution_count": null,
   "id": "d74ac9dc-4a96-4853-9323-24fc48a13ae5",
   "metadata": {},
   "outputs": [],
   "source": []
  }
 ],
 "metadata": {
  "kernelspec": {
   "display_name": "Python [conda env:base] *",
   "language": "python",
   "name": "conda-base-py"
  },
  "language_info": {
   "codemirror_mode": {
    "name": "ipython",
    "version": 3
   },
   "file_extension": ".py",
   "mimetype": "text/x-python",
   "name": "python",
   "nbconvert_exporter": "python",
   "pygments_lexer": "ipython3",
   "version": "3.12.7"
  }
 },
 "nbformat": 4,
 "nbformat_minor": 5
}
